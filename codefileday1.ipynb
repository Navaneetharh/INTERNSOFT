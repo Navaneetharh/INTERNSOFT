{
  "nbformat": 4,
  "nbformat_minor": 0,
  "metadata": {
    "colab": {
      "name": "codefileday1.ipynb",
      "provenance": []
    },
    "kernelspec": {
      "name": "python3",
      "display_name": "Python 3"
    }
  },
  "cells": [
    {
      "cell_type": "code",
      "metadata": {
        "colab": {
          "base_uri": "https://localhost:8080/"
        },
        "id": "sjvcdMLv_YA7",
        "outputId": "a3ebd65e-4e5b-4e79-b743-cbccfe388572"
      },
      "source": [
        "# integers\r\n",
        "x = 1\r\n",
        "type(x)"
      ],
      "execution_count": 1,
      "outputs": [
        {
          "output_type": "execute_result",
          "data": {
            "text/plain": [
              "int"
            ]
          },
          "metadata": {
            "tags": []
          },
          "execution_count": 1
        }
      ]
    },
    {
      "cell_type": "code",
      "metadata": {
        "colab": {
          "base_uri": "https://localhost:8080/"
        },
        "id": "Qo4RY2N_AUcO",
        "outputId": "6d181eb9-496e-41c3-d824-a874bf686e17"
      },
      "source": [
        "# float\r\n",
        "x = 1.0\r\n",
        "type(x)"
      ],
      "execution_count": 2,
      "outputs": [
        {
          "output_type": "execute_result",
          "data": {
            "text/plain": [
              "float"
            ]
          },
          "metadata": {
            "tags": []
          },
          "execution_count": 2
        }
      ]
    },
    {
      "cell_type": "code",
      "metadata": {
        "colab": {
          "base_uri": "https://localhost:8080/"
        },
        "id": "kOk0OS1FBHqc",
        "outputId": "d31e995f-ab22-4893-90b3-9f187429c6fe"
      },
      "source": [
        "# boolean\r\n",
        "b1 = True\r\n",
        "b2 = False\r\n",
        "\r\n",
        "type(b1)"
      ],
      "execution_count": 3,
      "outputs": [
        {
          "output_type": "execute_result",
          "data": {
            "text/plain": [
              "bool"
            ]
          },
          "metadata": {
            "tags": []
          },
          "execution_count": 3
        }
      ]
    },
    {
      "cell_type": "code",
      "metadata": {
        "colab": {
          "base_uri": "https://localhost:8080/"
        },
        "id": "qU1aTDzXBONe",
        "outputId": "cd82e25e-09a5-47a7-a686-da65d0fc6a0d"
      },
      "source": [
        "# string\r\n",
        "name1 = 'your name'\r\n",
        "type(name1)"
      ],
      "execution_count": 4,
      "outputs": [
        {
          "output_type": "execute_result",
          "data": {
            "text/plain": [
              "str"
            ]
          },
          "metadata": {
            "tags": []
          },
          "execution_count": 4
        }
      ]
    },
    {
      "cell_type": "code",
      "metadata": {
        "colab": {
          "base_uri": "https://localhost:8080/"
        },
        "id": "sZD__6uTBV4h",
        "outputId": "9b392075-ee5c-417f-824c-cd1acc6f3a9b"
      },
      "source": [
        "# complex numbers: note the use of `j` to specify the imaginary part\r\n",
        "x = 1.0 - 2.0j\r\n",
        "type(x)"
      ],
      "execution_count": 5,
      "outputs": [
        {
          "output_type": "execute_result",
          "data": {
            "text/plain": [
              "complex"
            ]
          },
          "metadata": {
            "tags": []
          },
          "execution_count": 5
        }
      ]
    },
    {
      "cell_type": "code",
      "metadata": {
        "colab": {
          "base_uri": "https://localhost:8080/"
        },
        "id": "h6op3G0SBpgO",
        "outputId": "60685059-14b3-4d6d-cc4d-1f6bbba5ec0b"
      },
      "source": [
        "print(x)"
      ],
      "execution_count": 6,
      "outputs": [
        {
          "output_type": "stream",
          "text": [
            "(1-2j)\n"
          ],
          "name": "stdout"
        }
      ]
    },
    {
      "cell_type": "code",
      "metadata": {
        "colab": {
          "base_uri": "https://localhost:8080/"
        },
        "id": "P9Skgtx1ByXh",
        "outputId": "37b8bbfc-6037-4980-e6af-5d549bad5bf7"
      },
      "source": [
        "print(x.real, x.imag)"
      ],
      "execution_count": 7,
      "outputs": [
        {
          "output_type": "stream",
          "text": [
            "1.0 -2.0\n"
          ],
          "name": "stdout"
        }
      ]
    },
    {
      "cell_type": "code",
      "metadata": {
        "colab": {
          "base_uri": "https://localhost:8080/"
        },
        "id": "bn67QY1gB6Tc",
        "outputId": "e0adec36-54bc-44e9-b7ea-f091ebaadaf6"
      },
      "source": [
        "tenth = 10\r\n",
        "two = 2\r\n",
        "print(tenth)\r\n",
        "two"
      ],
      "execution_count": 8,
      "outputs": [
        {
          "output_type": "stream",
          "text": [
            "10\n"
          ],
          "name": "stdout"
        },
        {
          "output_type": "execute_result",
          "data": {
            "text/plain": [
              "2"
            ]
          },
          "metadata": {
            "tags": []
          },
          "execution_count": 8
        }
      ]
    },
    {
      "cell_type": "code",
      "metadata": {
        "colab": {
          "base_uri": "https://localhost:8080/"
        },
        "id": "CmqYCyBPCDkj",
        "outputId": "887ed11c-c713-48cc-c7d9-9be7ded7734f"
      },
      "source": [
        "ten = 20\r\n",
        "ten"
      ],
      "execution_count": 9,
      "outputs": [
        {
          "output_type": "execute_result",
          "data": {
            "text/plain": [
              "20"
            ]
          },
          "metadata": {
            "tags": []
          },
          "execution_count": 9
        }
      ]
    },
    {
      "cell_type": "code",
      "metadata": {
        "colab": {
          "base_uri": "https://localhost:8080/",
          "height": 35
        },
        "id": "gshU6V3gCMDZ",
        "outputId": "31a2ebf3-e648-46c3-c87f-f3d959f5243e"
      },
      "source": [
        "ten = 'five'\r\n",
        "ten"
      ],
      "execution_count": 10,
      "outputs": [
        {
          "output_type": "execute_result",
          "data": {
            "application/vnd.google.colaboratory.intrinsic+json": {
              "type": "string"
            },
            "text/plain": [
              "'five'"
            ]
          },
          "metadata": {
            "tags": []
          },
          "execution_count": 10
        }
      ]
    },
    {
      "cell_type": "code",
      "metadata": {
        "colab": {
          "base_uri": "https://localhost:8080/",
          "height": 35
        },
        "id": "U4Xqzp9aCqna",
        "outputId": "3c15136c-a405-47d1-f411-00587a4536ed"
      },
      "source": [
        "'Day ' + str(1)"
      ],
      "execution_count": 11,
      "outputs": [
        {
          "output_type": "execute_result",
          "data": {
            "application/vnd.google.colaboratory.intrinsic+json": {
              "type": "string"
            },
            "text/plain": [
              "'Day 1'"
            ]
          },
          "metadata": {
            "tags": []
          },
          "execution_count": 11
        }
      ]
    },
    {
      "cell_type": "code",
      "metadata": {
        "colab": {
          "base_uri": "https://localhost:8080/"
        },
        "id": "5ZexP1UcC1Ct",
        "outputId": "7a528157-dd01-4fb5-8926-5a4ede93cbe1"
      },
      "source": [
        "True and True"
      ],
      "execution_count": 12,
      "outputs": [
        {
          "output_type": "execute_result",
          "data": {
            "text/plain": [
              "True"
            ]
          },
          "metadata": {
            "tags": []
          },
          "execution_count": 12
        }
      ]
    },
    {
      "cell_type": "code",
      "metadata": {
        "colab": {
          "base_uri": "https://localhost:8080/"
        },
        "id": "tqng-kTvC33Y",
        "outputId": "b21309a1-c3da-4dcc-f592-4baf8e3c1651"
      },
      "source": [
        "True or False"
      ],
      "execution_count": 13,
      "outputs": [
        {
          "output_type": "execute_result",
          "data": {
            "text/plain": [
              "True"
            ]
          },
          "metadata": {
            "tags": []
          },
          "execution_count": 13
        }
      ]
    },
    {
      "cell_type": "code",
      "metadata": {
        "colab": {
          "base_uri": "https://localhost:8080/"
        },
        "id": "BCM5zbVmDDCg",
        "outputId": "bc0e7def-b7b8-4477-94e1-612145b9ed07"
      },
      "source": [
        "not True"
      ],
      "execution_count": 14,
      "outputs": [
        {
          "output_type": "execute_result",
          "data": {
            "text/plain": [
              "False"
            ]
          },
          "metadata": {
            "tags": []
          },
          "execution_count": 14
        }
      ]
    },
    {
      "cell_type": "code",
      "metadata": {
        "colab": {
          "base_uri": "https://localhost:8080/"
        },
        "id": "ddUvw2NyDLTj",
        "outputId": "678a8647-e086-4bd2-b898-486bc43da113"
      },
      "source": [
        "not False"
      ],
      "execution_count": 15,
      "outputs": [
        {
          "output_type": "execute_result",
          "data": {
            "text/plain": [
              "True"
            ]
          },
          "metadata": {
            "tags": []
          },
          "execution_count": 15
        }
      ]
    },
    {
      "cell_type": "code",
      "metadata": {
        "colab": {
          "base_uri": "https://localhost:8080/"
        },
        "id": "NvrotkyADQvo",
        "outputId": "eb907614-4d73-4968-edae-5fc75eec964c"
      },
      "source": [
        "True is True"
      ],
      "execution_count": 16,
      "outputs": [
        {
          "output_type": "execute_result",
          "data": {
            "text/plain": [
              "True"
            ]
          },
          "metadata": {
            "tags": []
          },
          "execution_count": 16
        }
      ]
    },
    {
      "cell_type": "code",
      "metadata": {
        "colab": {
          "base_uri": "https://localhost:8080/"
        },
        "id": "GLlT3wnWDWfm",
        "outputId": "311a0ab4-41a7-49d7-9c00-d9e75afa2445"
      },
      "source": [
        "True is False"
      ],
      "execution_count": 17,
      "outputs": [
        {
          "output_type": "execute_result",
          "data": {
            "text/plain": [
              "False"
            ]
          },
          "metadata": {
            "tags": []
          },
          "execution_count": 17
        }
      ]
    },
    {
      "cell_type": "code",
      "metadata": {
        "colab": {
          "base_uri": "https://localhost:8080/"
        },
        "id": "f4UauLWADbv7",
        "outputId": "2bc6abe0-ba10-43b3-fbe5-d5d94d4ccb9f"
      },
      "source": [
        "'a' is 'a'"
      ],
      "execution_count": 18,
      "outputs": [
        {
          "output_type": "execute_result",
          "data": {
            "text/plain": [
              "True"
            ]
          },
          "metadata": {
            "tags": []
          },
          "execution_count": 18
        }
      ]
    },
    {
      "cell_type": "code",
      "metadata": {
        "colab": {
          "base_uri": "https://localhost:8080/"
        },
        "id": "GyMi0dyEDjYV",
        "outputId": "9453ad09-1d11-4e58-d096-a4798469f872"
      },
      "source": [
        "i = 4\r\n",
        "if i < 4:\r\n",
        "    print('less than 4')\r\n",
        "elif i < 5:\r\n",
        "    print('less than 5')\r\n",
        "else:\r\n",
        "    print('5 or more')\r\n"
      ],
      "execution_count": 19,
      "outputs": [
        {
          "output_type": "stream",
          "text": [
            "less than 5\n"
          ],
          "name": "stdout"
        }
      ]
    },
    {
      "cell_type": "code",
      "metadata": {
        "colab": {
          "base_uri": "https://localhost:8080/"
        },
        "id": "PqXRuysnD3We",
        "outputId": "a0ddc5a9-5de3-4d17-d7f5-4599cd41894e"
      },
      "source": [
        "l = []\r\n",
        "l"
      ],
      "execution_count": 21,
      "outputs": [
        {
          "output_type": "execute_result",
          "data": {
            "text/plain": [
              "[]"
            ]
          },
          "metadata": {
            "tags": []
          },
          "execution_count": 21
        }
      ]
    },
    {
      "cell_type": "code",
      "metadata": {
        "colab": {
          "base_uri": "https://localhost:8080/"
        },
        "id": "SuWpr8RrD9KA",
        "outputId": "6689d172-b184-4f34-f8c6-b410ebd53850"
      },
      "source": [
        "l = list()\r\n",
        "l"
      ],
      "execution_count": 22,
      "outputs": [
        {
          "output_type": "execute_result",
          "data": {
            "text/plain": [
              "[]"
            ]
          },
          "metadata": {
            "tags": []
          },
          "execution_count": 22
        }
      ]
    },
    {
      "cell_type": "code",
      "metadata": {
        "colab": {
          "base_uri": "https://localhost:8080/"
        },
        "id": "0Y1mTng9EGIq",
        "outputId": "f4159dfb-cf4f-40ce-944f-9f27ce2e950d"
      },
      "source": [
        "l = ['a', 'b', 'c','d']\r\n",
        "print(l)\r\n",
        "type(l)"
      ],
      "execution_count": 23,
      "outputs": [
        {
          "output_type": "stream",
          "text": [
            "['a', 'b', 'c', 'd']\n"
          ],
          "name": "stdout"
        },
        {
          "output_type": "execute_result",
          "data": {
            "text/plain": [
              "list"
            ]
          },
          "metadata": {
            "tags": []
          },
          "execution_count": 23
        }
      ]
    },
    {
      "cell_type": "code",
      "metadata": {
        "colab": {
          "base_uri": "https://localhost:8080/"
        },
        "id": "HRuwY-QMENm3",
        "outputId": "77c10aec-cbba-4486-ff63-a30c36a61a20"
      },
      "source": [
        "l = ['a',8]\r\n",
        "l"
      ],
      "execution_count": 24,
      "outputs": [
        {
          "output_type": "execute_result",
          "data": {
            "text/plain": [
              "['a', 8]"
            ]
          },
          "metadata": {
            "tags": []
          },
          "execution_count": 24
        }
      ]
    },
    {
      "cell_type": "code",
      "metadata": {
        "colab": {
          "base_uri": "https://localhost:8080/"
        },
        "id": "eT0ZY2C_EWYc",
        "outputId": "f3a0d418-a1b7-4183-a7e0-97b8e394d26b"
      },
      "source": [
        "l2 = list(l)\r\n",
        "l2"
      ],
      "execution_count": 25,
      "outputs": [
        {
          "output_type": "execute_result",
          "data": {
            "text/plain": [
              "['a', 8]"
            ]
          },
          "metadata": {
            "tags": []
          },
          "execution_count": 25
        }
      ]
    },
    {
      "cell_type": "code",
      "metadata": {
        "colab": {
          "base_uri": "https://localhost:8080/"
        },
        "id": "R3dmXeLNEgEG",
        "outputId": "943235bf-0041-4664-afb4-d3177401e375"
      },
      "source": [
        "list('abcdefg')"
      ],
      "execution_count": 26,
      "outputs": [
        {
          "output_type": "execute_result",
          "data": {
            "text/plain": [
              "['a', 'b', 'c', 'd', 'e', 'f', 'g']"
            ]
          },
          "metadata": {
            "tags": []
          },
          "execution_count": 26
        }
      ]
    },
    {
      "cell_type": "code",
      "metadata": {
        "colab": {
          "base_uri": "https://localhost:8080/"
        },
        "id": "IXdohrVJEo2_",
        "outputId": "fcba42b4-a54c-4878-86db-994b72140000"
      },
      "source": [
        "l = [1,2]\r\n",
        "print(l)\r\n",
        "l.append('b')\r\n",
        "print(l)\r\n",
        "l.append('c')\r\n",
        "print(l)\r\n",
        "l.insert(1, 56)\r\n",
        "l"
      ],
      "execution_count": 27,
      "outputs": [
        {
          "output_type": "stream",
          "text": [
            "[1, 2]\n",
            "[1, 2, 'b']\n",
            "[1, 2, 'b', 'c']\n"
          ],
          "name": "stdout"
        },
        {
          "output_type": "execute_result",
          "data": {
            "text/plain": [
              "[1, 56, 2, 'b', 'c']"
            ]
          },
          "metadata": {
            "tags": []
          },
          "execution_count": 27
        }
      ]
    },
    {
      "cell_type": "code",
      "metadata": {
        "colab": {
          "base_uri": "https://localhost:8080/"
        },
        "id": "Weplrt0ZEufh",
        "outputId": "bd4d3b89-c631-49a1-b225-c119871ab6af"
      },
      "source": [
        "for i in l:\r\n",
        "    print(i)"
      ],
      "execution_count": 28,
      "outputs": [
        {
          "output_type": "stream",
          "text": [
            "1\n",
            "56\n",
            "2\n",
            "b\n",
            "c\n"
          ],
          "name": "stdout"
        }
      ]
    },
    {
      "cell_type": "code",
      "metadata": {
        "colab": {
          "base_uri": "https://localhost:8080/"
        },
        "id": "JgPItFORE2VD",
        "outputId": "cb38c6a9-675b-4524-dba7-389aeadd6efa"
      },
      "source": [
        "# Program to find the sum of all numbers stored in a list\r\n",
        "\r\n",
        "# List of numbers\r\n",
        "numbers = [6, 5, 3, 8, 4, 2, 5, 4,9]\r\n",
        "\r\n",
        "# variable to store the sum\r\n",
        "sum = 0\r\n",
        "\r\n",
        "# iterate over the list\r\n",
        "for i in numbers:\r\n",
        "    sum = sum + i\r\n",
        "\r\n",
        "# Output: The sum is 48\r\n",
        "print(\"The sum is\", sum)\r\n",
        "sum"
      ],
      "execution_count": 29,
      "outputs": [
        {
          "output_type": "stream",
          "text": [
            "The sum is 46\n"
          ],
          "name": "stdout"
        },
        {
          "output_type": "execute_result",
          "data": {
            "text/plain": [
              "46"
            ]
          },
          "metadata": {
            "tags": []
          },
          "execution_count": 29
        }
      ]
    },
    {
      "cell_type": "code",
      "metadata": {
        "colab": {
          "base_uri": "https://localhost:8080/"
        },
        "id": "NiJjDXVlE-8s",
        "outputId": "abf67c78-22b5-49b5-ca9b-d10799a78f3d"
      },
      "source": [
        "digits = [0, 1, 5]\r\n",
        "\r\n",
        "for i in digits:\r\n",
        "    print(i)\r\n",
        "else:\r\n",
        "    print(\"No items left.\")"
      ],
      "execution_count": 30,
      "outputs": [
        {
          "output_type": "stream",
          "text": [
            "0\n",
            "1\n",
            "5\n",
            "No items left.\n"
          ],
          "name": "stdout"
        }
      ]
    },
    {
      "cell_type": "code",
      "metadata": {
        "colab": {
          "base_uri": "https://localhost:8080/"
        },
        "id": "7rKVHfdnFGKS",
        "outputId": "5586c2d0-4bbd-423e-e5ec-a1bb7a29fe74"
      },
      "source": [
        "# Program to add natural\r\n",
        "# numbers upto \r\n",
        "# sum = 1+2+3+...+n\r\n",
        "\r\n",
        "# To take input from the user,\r\n",
        "n = int(input(\"Enter n: \"))\r\n",
        "\r\n",
        "\r\n",
        "# initialize sum and counter\r\n",
        "sum = 0\r\n",
        "i = 1\r\n",
        "\r\n",
        "while i <= n:\r\n",
        "    sum = sum + i\r\n",
        "    i = i+1    # update counter\r\n",
        "\r\n",
        "# print the sum\r\n",
        "print(\"The sum is\", sum)"
      ],
      "execution_count": 31,
      "outputs": [
        {
          "output_type": "stream",
          "text": [
            "Enter n: 10\n",
            "The sum is 55\n"
          ],
          "name": "stdout"
        }
      ]
    },
    {
      "cell_type": "code",
      "metadata": {
        "colab": {
          "base_uri": "https://localhost:8080/"
        },
        "id": "7B28lmzwFReN",
        "outputId": "3878ba4c-c1ef-418a-ad3a-3c0dbc4edac8"
      },
      "source": [
        "print(range(10))"
      ],
      "execution_count": 32,
      "outputs": [
        {
          "output_type": "stream",
          "text": [
            "range(0, 10)\n"
          ],
          "name": "stdout"
        }
      ]
    },
    {
      "cell_type": "code",
      "metadata": {
        "colab": {
          "base_uri": "https://localhost:8080/"
        },
        "id": "pIFJMZt1FXJ-",
        "outputId": "f6ac4b00-81cd-4453-a4d9-f60638e048e8"
      },
      "source": [
        "print(list(range(10)))"
      ],
      "execution_count": 33,
      "outputs": [
        {
          "output_type": "stream",
          "text": [
            "[0, 1, 2, 3, 4, 5, 6, 7, 8, 9]\n"
          ],
          "name": "stdout"
        }
      ]
    },
    {
      "cell_type": "code",
      "metadata": {
        "colab": {
          "base_uri": "https://localhost:8080/"
        },
        "id": "_ZH1KiaUFffl",
        "outputId": "378d634c-4a9e-4354-d2b7-526fb6287a32"
      },
      "source": [
        "print(list(range(2, 8)))"
      ],
      "execution_count": 34,
      "outputs": [
        {
          "output_type": "stream",
          "text": [
            "[2, 3, 4, 5, 6, 7]\n"
          ],
          "name": "stdout"
        }
      ]
    },
    {
      "cell_type": "code",
      "metadata": {
        "colab": {
          "base_uri": "https://localhost:8080/"
        },
        "id": "DEnN0vo1FkXh",
        "outputId": "f99b3cb0-927e-4c24-d0ce-6a05d82abf75"
      },
      "source": [
        "print(list(range(2, 20, 5)))"
      ],
      "execution_count": 35,
      "outputs": [
        {
          "output_type": "stream",
          "text": [
            "[2, 7, 12, 17]\n"
          ],
          "name": "stdout"
        }
      ]
    },
    {
      "cell_type": "code",
      "metadata": {
        "colab": {
          "base_uri": "https://localhost:8080/"
        },
        "id": "9QxgVderFqVV",
        "outputId": "ba267c13-efc3-4a80-923c-e891defdc12c"
      },
      "source": [
        "# Program to iterate through a list using indexing\r\n",
        "\r\n",
        "genre = ['pop', 'rock', 'jazz','sapna']\r\n",
        "\r\n",
        "# iterate over the list using index\r\n",
        "for i in range(len(genre)):\r\n",
        "    print(\"I like\", genre[i])"
      ],
      "execution_count": 36,
      "outputs": [
        {
          "output_type": "stream",
          "text": [
            "I like pop\n",
            "I like rock\n",
            "I like jazz\n",
            "I like sapna\n"
          ],
          "name": "stdout"
        }
      ]
    },
    {
      "cell_type": "code",
      "metadata": {
        "colab": {
          "base_uri": "https://localhost:8080/"
        },
        "id": "YMJpmRx3F0hU",
        "outputId": "a4bf224c-e68e-4c9c-8c48-2414b4f9735a"
      },
      "source": [
        "# Use of break statement inside loop\r\n",
        "\r\n",
        "for val in \"NAVANEETHA\":\r\n",
        "    if val == \"H\":\r\n",
        "        break\r\n",
        "    print(val)\r\n",
        "\r\n",
        "print(\"The end\")"
      ],
      "execution_count": 37,
      "outputs": [
        {
          "output_type": "stream",
          "text": [
            "N\n",
            "A\n",
            "V\n",
            "A\n",
            "N\n",
            "E\n",
            "E\n",
            "T\n",
            "The end\n"
          ],
          "name": "stdout"
        }
      ]
    },
    {
      "cell_type": "code",
      "metadata": {
        "colab": {
          "base_uri": "https://localhost:8080/"
        },
        "id": "gFXpUumcGEc0",
        "outputId": "87c8270a-fe84-4a44-dd8c-c34c4e717c47"
      },
      "source": [
        "# Program to show the use of continue statement inside loops\r\n",
        "\r\n",
        "for val in \"NAVANEETHA\":\r\n",
        "    if val == \"H\":\r\n",
        "        continue\r\n",
        "    print(val)\r\n",
        "\r\n",
        "print(\"The end\")"
      ],
      "execution_count": 38,
      "outputs": [
        {
          "output_type": "stream",
          "text": [
            "N\n",
            "A\n",
            "V\n",
            "A\n",
            "N\n",
            "E\n",
            "E\n",
            "T\n",
            "A\n",
            "The end\n"
          ],
          "name": "stdout"
        }
      ]
    },
    {
      "cell_type": "code",
      "metadata": {
        "colab": {
          "base_uri": "https://localhost:8080/"
        },
        "id": "vilouoT6GUdF",
        "outputId": "7e3c2af9-2e60-432e-db03-e290ebdc9c69"
      },
      "source": [
        "# Program to take the input string from the user.\r\n",
        "\r\n",
        "name = input(\"What is your name?\\n \")\r\n",
        "type(name)"
      ],
      "execution_count": 39,
      "outputs": [
        {
          "output_type": "stream",
          "text": [
            "What is your name?\n",
            " navni\n"
          ],
          "name": "stdout"
        },
        {
          "output_type": "execute_result",
          "data": {
            "text/plain": [
              "str"
            ]
          },
          "metadata": {
            "tags": []
          },
          "execution_count": 39
        }
      ]
    },
    {
      "cell_type": "code",
      "metadata": {
        "colab": {
          "base_uri": "https://localhost:8080/"
        },
        "id": "93WmamhnGc3t",
        "outputId": "4252579b-d07e-4fef-bd9b-763f9af0d43f"
      },
      "source": [
        "# Program to read integers from user\r\n",
        "\r\n",
        "age = int(input(\"What is your age? \"))\r\n",
        "print (\"Your age is: \", age)\r\n",
        "type(age)"
      ],
      "execution_count": 40,
      "outputs": [
        {
          "output_type": "stream",
          "text": [
            "What is your age? 21\n",
            "Your age is:  21\n"
          ],
          "name": "stdout"
        },
        {
          "output_type": "execute_result",
          "data": {
            "text/plain": [
              "int"
            ]
          },
          "metadata": {
            "tags": []
          },
          "execution_count": 40
        }
      ]
    },
    {
      "cell_type": "code",
      "metadata": {
        "colab": {
          "base_uri": "https://localhost:8080/"
        },
        "id": "LrROOdq1Gl4q",
        "outputId": "136dec28-f538-438a-c0c0-de37d1c3845b"
      },
      "source": [
        "# Let's have one more example\r\n",
        "\r\n",
        "name = input(\"What is your name? \")\r\n",
        "print (\" It was nice talking you \" + name + \"!\")\r\n",
        "age = input(\"Enter your age? \")\r\n",
        "print(\"Hey, you are already \" + age + \" years old, \" + name + \"!\")\r\n"
      ],
      "execution_count": 41,
      "outputs": [
        {
          "output_type": "stream",
          "text": [
            "What is your name? navni\n",
            " It was nice talking you navni!\n",
            "Enter your age? 21\n",
            "Hey, you are already 21 years old, navni!\n"
          ],
          "name": "stdout"
        }
      ]
    }
  ]
}